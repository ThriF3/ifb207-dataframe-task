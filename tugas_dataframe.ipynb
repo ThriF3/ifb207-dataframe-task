{
 "cells": [
  {
   "cell_type": "code",
   "execution_count": 14,
   "metadata": {},
   "outputs": [],
   "source": [
    "import pandas as pd"
   ]
  },
  {
   "cell_type": "code",
   "execution_count": 17,
   "metadata": {},
   "outputs": [
    {
     "name": "stdout",
     "output_type": "stream",
     "text": [
      "DataFrame: \n",
      "    nama_kabupaten_kota  jumlah_produksi_sampah  tahun\n",
      "0       KABUPATEN BOGOR                 1511.15   2015\n",
      "1    KABUPATEN SUKABUMI                  419.01   2015\n",
      "2     KABUPATEN CIANJUR                  981.41   2015\n",
      "3     KABUPATEN BANDUNG                 1895.94   2015\n",
      "4       KABUPATEN GARUT                  464.74   2015\n",
      "..                  ...                     ...    ...\n",
      "238         KOTA BEKASI                     NaN   2023\n",
      "239          KOTA DEPOK                     NaN   2023\n",
      "240         KOTA CIMAHI                     NaN   2023\n",
      "241    KOTA TASIKMALAYA                     NaN   2023\n",
      "242         KOTA BANJAR                     NaN   2023\n",
      "\n",
      "[243 rows x 3 columns]\n"
     ]
    }
   ],
   "source": [
    "# Data yang akan diproses\n",
    "df = pd.read_excel('produksi_sampa_kabupaten.xlsx')\n",
    "\n",
    "print('DataFrame: ')\n",
    "print(df[['nama_kabupaten_kota', 'jumlah_produksi_sampah', 'tahun']])"
   ]
  },
  {
   "cell_type": "code",
   "execution_count": 8,
   "metadata": {},
   "outputs": [
    {
     "name": "stdout",
     "output_type": "stream",
     "text": [
      "    nama_kabupaten_kota  jumlah_produksi_sampah         satuan  tahun\n",
      "0       KABUPATEN BOGOR                  1511.15  TON PER HARI   2015\n",
      "1    KABUPATEN SUKABUMI                   419.01  TON PER HARI   2015\n",
      "2     KABUPATEN CIANJUR                   981.41  TON PER HARI   2015\n",
      "3     KABUPATEN BANDUNG                  1895.94  TON PER HARI   2015\n",
      "4       KABUPATEN GARUT                   464.74  TON PER HARI   2015\n",
      "..                  ...                      ...           ...    ...\n",
      "238         KOTA BEKASI                      NaN  TON PER HARI   2023\n",
      "239          KOTA DEPOK                      NaN  TON PER HARI   2023\n",
      "240         KOTA CIMAHI                      NaN  TON PER HARI   2023\n",
      "241    KOTA TASIKMALAYA                      NaN  TON PER HARI   2023\n",
      "242         KOTA BANJAR                      NaN  TON PER HARI   2023\n",
      "\n",
      "[243 rows x 4 columns]\n"
     ]
    }
   ],
   "source": [
    "# 1. Memilih kolom tertentu memakai interrows\n",
    "milih_cols = []\n",
    "for index, row in df.iterrows():\n",
    "    milih_cols.append({\n",
    "        'nama_kabupaten_kota': row['nama_kabupaten_kota'],\n",
    "        'jumlah_produksi_sampah ': row['jumlah_produksi_sampah'],\n",
    "        'satuan': row['satuan'],\n",
    "        'tahun': row['tahun'],\n",
    "    })\n",
    "    \n",
    "df_terpilih = pd.DataFrame(milih_cols)\n",
    "print(df_terpilih)"
   ]
  },
  {
   "cell_type": "code",
   "execution_count": 9,
   "metadata": {},
   "outputs": [
    {
     "name": "stdout",
     "output_type": "stream",
     "text": [
      "20969.269999999997\n",
      "   tahun  total_produksi_sampah\n",
      "0   2015               20969.27\n"
     ]
    }
   ],
   "source": [
    "# 2. Total data dari setiap kabupaten/kota sesuai tahun tertentu\n",
    "def sum_by_year(year):\n",
    "    filtered_rows = []\n",
    "    sum_data = 0\n",
    "    for index, row in df.iterrows():\n",
    "        if row['tahun'] == year:\n",
    "            sum_data += row['jumlah_produksi_sampah']\n",
    "\n",
    "    print(sum_data)\n",
    "            \n",
    "    filtered_rows.append({\n",
    "        'tahun': year,\n",
    "        'total_produksi_sampah': sum_data\n",
    "    })\n",
    "    \n",
    "    return filtered_rows\n",
    "\n",
    "filtered_df = []\n",
    "year = 2015\n",
    "filtered_rows = sum_by_year(year)\n",
    "\n",
    "filtered_df = pd.DataFrame(filtered_rows)\n",
    "print(filtered_df)"
   ]
  },
  {
   "cell_type": "code",
   "execution_count": 10,
   "metadata": {},
   "outputs": [
    {
     "name": "stdout",
     "output_type": "stream",
     "text": [
      "[2015, 2016, 2017, 2018, 2019, 2020, 2021, 2022, 2023]\n",
      "   tahun  total_produksi_sampah\n",
      "0   2015               20969.27\n",
      "1   2016               20969.27\n",
      "2   2017               20969.27\n",
      "3   2018               22772.92\n",
      "4   2019               24490.56\n",
      "5   2020               25333.00\n",
      "6   2021               15735.36\n",
      "7   2022                    NaN\n",
      "8   2023                    NaN\n"
     ]
    }
   ],
   "source": [
    "# 3. Jumlahkan data pertahun\n",
    "tahunan_rows = []\n",
    "data_pertahun = [] \n",
    "\n",
    "for index, row in df.iterrows():\n",
    "    if row['tahun'] not in tahunan_rows:\n",
    "        sum_data = 0\n",
    "        tahunan_rows.append(row['tahun'])\n",
    "         \n",
    "        for index, row1 in df.iterrows():\n",
    "            if row['tahun'] == row1['tahun']:\n",
    "                sum_data += row1['jumlah_produksi_sampah']\n",
    "                \n",
    "        data_pertahun.append({\n",
    "            'tahun': row['tahun'], \n",
    "            'total_produksi_sampah': sum_data\n",
    "        })\n",
    "            \n",
    "df_tahunan = pd.DataFrame(data_pertahun)\n",
    "            \n",
    "print(tahunan_rows)\n",
    "print(df_tahunan)"
   ]
  },
  {
   "cell_type": "code",
   "execution_count": 13,
   "metadata": {},
   "outputs": [
    {
     "name": "stdout",
     "output_type": "stream",
     "text": [
      "243\n",
      "<===== 4. Jumlah data per kabupaten/kor per tahun =====>\n",
      "        nama_kabupaten_kota     2015     2016     2017     2018     2019  \\\n",
      "0           KABUPATEN BOGOR  1511.15  1511.15  1511.15  1716.80  2914.65   \n",
      "1        KABUPATEN SUKABUMI   419.01   419.01   419.01   415.50  1003.64   \n",
      "2         KABUPATEN CIANJUR   981.41   981.41   981.41   965.19  1115.81   \n",
      "3         KABUPATEN BANDUNG  1895.94  1895.94  1895.94  2068.06  1334.12   \n",
      "4           KABUPATEN GARUT   464.74   464.74   464.74   473.89  1144.01   \n",
      "5     KABUPATEN TASIKMALAYA   464.52   464.52   464.52   458.45   753.06   \n",
      "6          KABUPATEN CIAMIS   260.91   260.91   260.91   263.01   560.57   \n",
      "7        KABUPATEN KUNINGAN   251.70   251.70   251.70   248.52   537.25   \n",
      "8         KABUPATEN CIREBON   465.75   465.75   465.75   466.25     3.15   \n",
      "9      KABUPATEN MAJALENGKA   254.63   254.63   254.63   249.26   515.70   \n",
      "10       KABUPATEN SUMEDANG   237.96   237.96   237.96   236.12   436.96   \n",
      "11      KABUPATEN INDRAMAYU   613.18   613.18   613.18   603.11  1071.05   \n",
      "12         KABUPATEN SUBANG   487.26   487.26   487.26   498.70  1012.45   \n",
      "13     KABUPATEN PURWAKARTA   308.96   308.96   308.96   323.87   384.43   \n",
      "14       KABUPATEN KARAWANG   869.86   869.86   869.86   896.85   934.40   \n",
      "15         KABUPATEN BEKASI  1228.60  1228.60  1228.60  1600.71  2590.00   \n",
      "16  KABUPATEN BANDUNG BARAT   616.08   616.08   616.08   663.54  1124.50   \n",
      "17    KABUPATEN PANGANDARAN   185.83   185.83   185.83   171.21   250.23   \n",
      "18               KOTA BOGOR   991.93   991.93   991.93  1069.41   620.55   \n",
      "19            KOTA SUKABUMI   309.91   309.91   309.91   318.12   172.82   \n",
      "20             KOTA BANDUNG  2448.63  2448.63  2448.63  2441.12  1575.73   \n",
      "21             KOTA CIREBON   304.15   304.15   304.15   308.37   245.00   \n",
      "22              KOTA BEKASI  2387.08  2387.08  2387.08  2858.60  2060.70   \n",
      "23               KOTA DEPOK  1844.30  1844.30  1844.30  2272.07  1469.77   \n",
      "24              KOTA CIMAHI   563.21   563.21   563.21   592.62   267.74   \n",
      "25         KOTA TASIKMALAYA   472.36   472.36   472.36   465.23   291.60   \n",
      "26              KOTA BANJAR   130.21   130.21   130.21   128.34   100.67   \n",
      "\n",
      "      2020     2021  2022  2023  \n",
      "0   2977.0   971.59   NaN   NaN  \n",
      "1   1006.0   356.02   NaN   NaN  \n",
      "2   1117.0   355.69   NaN   NaN  \n",
      "3   1355.0  1489.04   NaN   NaN  \n",
      "4   1151.0   321.17   NaN   NaN  \n",
      "5    754.0   172.26   NaN   NaN  \n",
      "6    564.0   159.41   NaN   NaN  \n",
      "7    540.0   405.76   NaN   NaN  \n",
      "8   1096.0   242.52   NaN   NaN  \n",
      "9    518.0   546.54   NaN   NaN  \n",
      "10   438.0   707.75   NaN   NaN  \n",
      "11  1077.0   792.48   NaN   NaN  \n",
      "12  1023.0   739.60   NaN   NaN  \n",
      "13   388.0   239.72   NaN   NaN  \n",
      "14   942.0   614.61   NaN   NaN  \n",
      "15  2258.0  1193.76   NaN   NaN  \n",
      "16  1135.0   201.09   NaN   NaN  \n",
      "17   252.0    46.62   NaN   NaN  \n",
      "18   567.0   719.72   NaN   NaN  \n",
      "19   181.0   232.06   NaN   NaN  \n",
      "20  1630.0  1529.04   NaN   NaN  \n",
      "21   192.0   229.75   NaN   NaN  \n",
      "22  1923.0  1500.77   NaN   NaN  \n",
      "23  1516.0  1418.87   NaN   NaN  \n",
      "24   369.0   193.36   NaN   NaN  \n",
      "25   285.0   295.87   NaN   NaN  \n",
      "26    79.0    60.29   NaN   NaN  \n"
     ]
    }
   ],
   "source": [
    "# 4. Jumlah data per kabupaten/kor per tahun\n",
    "kabupaten_rows = []\n",
    "tahun_rows = []\n",
    "kabupaten_tahunan = []\n",
    "\n",
    "for index, row in df.iterrows():\n",
    "    if row['nama_kabupaten_kota'] not in kabupaten_rows:\n",
    "        kabupaten_rows.append(row['nama_kabupaten_kota'])\n",
    "        \n",
    "for kota in kabupaten_rows:\n",
    "    dict = {}\n",
    "    for index, row in df.iterrows():\n",
    "        if kota == row['nama_kabupaten_kota']:\n",
    "            dict['nama_kabupaten_kota'] = row['nama_kabupaten_kota']\n",
    "            dict[row['tahun']] = row['jumlah_produksi_sampah']\n",
    "            kabupaten_tahunan.append(dict)\n",
    "        \n",
    "filtered_data = []\n",
    "for data in kabupaten_tahunan:\n",
    "    if data not in filtered_data:\n",
    "        filtered_data.append(data)\n",
    "\n",
    "df_kabupaten_kota = pd.DataFrame(filtered_data)\n",
    "\n",
    "print(len(df.index))\n",
    "print(df_kabupaten_kota)"
   ]
  },
  {
   "cell_type": "code",
   "execution_count": 16,
   "metadata": {},
   "outputs": [],
   "source": [
    "df_terpilih.to_excel('df_terpilih.xlsx', index=False) # Nomor 1\n",
    "filtered_df.to_excel('filtered_df.xlsx', index=False) # Nomor 2\n",
    "df_tahunan.to_excel('df_tahunan.xlsx', index=False) # Nomor 3\n",
    "df_kabupaten_kota.to_excel('df_kabupaten_kota.xlsx', index=False) # Nomor 4"
   ]
  }
 ],
 "metadata": {
  "kernelspec": {
   "display_name": "Python 3",
   "language": "python",
   "name": "python3"
  },
  "language_info": {
   "codemirror_mode": {
    "name": "ipython",
    "version": 3
   },
   "file_extension": ".py",
   "mimetype": "text/x-python",
   "name": "python",
   "nbconvert_exporter": "python",
   "pygments_lexer": "ipython3",
   "version": "3.12.1"
  }
 },
 "nbformat": 4,
 "nbformat_minor": 2
}
