{
 "cells": [
  {
   "cell_type": "code",
   "execution_count": 1,
   "metadata": {},
   "outputs": [
    {
     "name": "stdout",
     "output_type": "stream",
     "text": [
      "   Nama  Umur\n",
      "0  Andi    20\n",
      "1  Budi    20\n",
      "2  Cici    20\n"
     ]
    }
   ],
   "source": [
    "import pandas as pd\n",
    "\n",
    "data = [(\"Andi\", 20), (\"Budi\", 20), (\"Cici\", 20)]\n",
    "\n",
    "df = pd.DataFrame(data, columns=[\"Nama\", \"Umur\"])\n",
    "\n",
    "print(df)"
   ]
  },
  {
   "cell_type": "code",
   "execution_count": 1,
   "metadata": {},
   "outputs": [
    {
     "name": "stdout",
     "output_type": "stream",
     "text": [
      "   Nama  Usia      Kota\n",
      "0  Andi    25   Jakarta\n",
      "1  Budi    30   Bandung\n",
      "2  Caca    28  Surabaya\n",
      "3  Deni    35     Medan\n"
     ]
    }
   ],
   "source": [
    "import pandas as pd\n",
    "\n",
    "# This dictionary will become a DataFrame\n",
    "data = {\n",
    "    'Nama': ['Andi', 'Budi', 'Caca', 'Deni'],\n",
    "    'Usia': [25, 30, 28, 35],\n",
    "    'Kota': ['Jakarta', 'Bandung', 'Surabaya', 'Medan'],\n",
    "}\n",
    "\n",
    "# Changing Dictionary into a DataFrame\n",
    "df = pd.DataFrame(data)\n",
    "\n",
    "print(df)"
   ]
  },
  {
   "cell_type": "code",
   "execution_count": 8,
   "metadata": {},
   "outputs": [
    {
     "name": "stdout",
     "output_type": "stream",
     "text": [
      "0      Doni\n",
      "1      Reno\n",
      "2    Jhonny\n",
      "Name: Nama, dtype: object\n"
     ]
    }
   ],
   "source": [
    "import pandas as pd\n",
    "\n",
    "nama = pd.Series(['Doni', 'Reno', 'Jhonny'])\n",
    "usia = pd.Series([25, 31, 32])\n",
    "\n",
    "df = pd.DataFrame({ 'Nama': nama, 'Usia': usia })\n",
    "\n",
    "print(df)\n",
    "print(df['Nama'])"
   ]
  },
  {
   "cell_type": "code",
   "execution_count": 7,
   "metadata": {},
   "outputs": [
    {
     "name": "stdout",
     "output_type": "stream",
     "text": [
      "      id  kode_provinsi nama_provinsi  kode_kabupaten_kota  \\\n",
      "0      1             32    JAWA BARAT                 3201   \n",
      "1      2             32    JAWA BARAT                 3202   \n",
      "2      3             32    JAWA BARAT                 3203   \n",
      "3      4             32    JAWA BARAT                 3204   \n",
      "4      5             32    JAWA BARAT                 3205   \n",
      "..   ...            ...           ...                  ...   \n",
      "238  239             32    JAWA BARAT                 3275   \n",
      "239  240             32    JAWA BARAT                 3276   \n",
      "240  241             32    JAWA BARAT                 3277   \n",
      "241  242             32    JAWA BARAT                 3278   \n",
      "242  243             32    JAWA BARAT                 3279   \n",
      "\n",
      "    nama_kabupaten_kota  jumlah_produksi_sampah        satuan  tahun  \n",
      "0       KABUPATEN BOGOR                 1511.15  TON PER HARI   2015  \n",
      "1    KABUPATEN SUKABUMI                  419.01  TON PER HARI   2015  \n",
      "2     KABUPATEN CIANJUR                  981.41  TON PER HARI   2015  \n",
      "3     KABUPATEN BANDUNG                 1895.94  TON PER HARI   2015  \n",
      "4       KABUPATEN GARUT                  464.74  TON PER HARI   2015  \n",
      "..                  ...                     ...           ...    ...  \n",
      "238         KOTA BEKASI                     NaN  TON PER HARI   2023  \n",
      "239          KOTA DEPOK                     NaN  TON PER HARI   2023  \n",
      "240         KOTA CIMAHI                     NaN  TON PER HARI   2023  \n",
      "241    KOTA TASIKMALAYA                     NaN  TON PER HARI   2023  \n",
      "242         KOTA BANJAR                     NaN  TON PER HARI   2023  \n",
      "\n",
      "[243 rows x 8 columns]\n"
     ]
    },
    {
     "ename": "KeyError",
     "evalue": "'nama'",
     "output_type": "error",
     "traceback": [
      "\u001b[1;31m---------------------------------------------------------------------------\u001b[0m",
      "\u001b[1;31mKeyError\u001b[0m                                  Traceback (most recent call last)",
      "File \u001b[1;32mc:\\Users\\Dell\\AppData\\Local\\Programs\\Python\\Python312\\Lib\\site-packages\\pandas\\core\\indexes\\base.py:3791\u001b[0m, in \u001b[0;36mIndex.get_loc\u001b[1;34m(self, key)\u001b[0m\n\u001b[0;32m   3790\u001b[0m \u001b[38;5;28;01mtry\u001b[39;00m:\n\u001b[1;32m-> 3791\u001b[0m     \u001b[38;5;28;01mreturn\u001b[39;00m \u001b[38;5;28;43mself\u001b[39;49m\u001b[38;5;241;43m.\u001b[39;49m\u001b[43m_engine\u001b[49m\u001b[38;5;241;43m.\u001b[39;49m\u001b[43mget_loc\u001b[49m\u001b[43m(\u001b[49m\u001b[43mcasted_key\u001b[49m\u001b[43m)\u001b[49m\n\u001b[0;32m   3792\u001b[0m \u001b[38;5;28;01mexcept\u001b[39;00m \u001b[38;5;167;01mKeyError\u001b[39;00m \u001b[38;5;28;01mas\u001b[39;00m err:\n",
      "File \u001b[1;32mindex.pyx:152\u001b[0m, in \u001b[0;36mpandas._libs.index.IndexEngine.get_loc\u001b[1;34m()\u001b[0m\n",
      "File \u001b[1;32mindex.pyx:181\u001b[0m, in \u001b[0;36mpandas._libs.index.IndexEngine.get_loc\u001b[1;34m()\u001b[0m\n",
      "File \u001b[1;32mpandas\\_libs\\hashtable_class_helper.pxi:7080\u001b[0m, in \u001b[0;36mpandas._libs.hashtable.PyObjectHashTable.get_item\u001b[1;34m()\u001b[0m\n",
      "File \u001b[1;32mpandas\\_libs\\hashtable_class_helper.pxi:7088\u001b[0m, in \u001b[0;36mpandas._libs.hashtable.PyObjectHashTable.get_item\u001b[1;34m()\u001b[0m\n",
      "\u001b[1;31mKeyError\u001b[0m: 'nama'",
      "\nThe above exception was the direct cause of the following exception:\n",
      "\u001b[1;31mKeyError\u001b[0m                                  Traceback (most recent call last)",
      "Cell \u001b[1;32mIn[7], line 9\u001b[0m\n\u001b[0;32m      6\u001b[0m \u001b[38;5;66;03m# Menampilkan DataFrame\u001b[39;00m\n\u001b[0;32m      7\u001b[0m \u001b[38;5;28mprint\u001b[39m(dataframe)\n\u001b[1;32m----> 9\u001b[0m \u001b[38;5;28mprint\u001b[39m(\u001b[43mdf\u001b[49m\u001b[43m[\u001b[49m\u001b[38;5;124;43m'\u001b[39;49m\u001b[38;5;124;43mnama\u001b[39;49m\u001b[38;5;124;43m'\u001b[39;49m\u001b[43m]\u001b[49m)\n",
      "File \u001b[1;32mc:\\Users\\Dell\\AppData\\Local\\Programs\\Python\\Python312\\Lib\\site-packages\\pandas\\core\\frame.py:3893\u001b[0m, in \u001b[0;36mDataFrame.__getitem__\u001b[1;34m(self, key)\u001b[0m\n\u001b[0;32m   3891\u001b[0m \u001b[38;5;28;01mif\u001b[39;00m \u001b[38;5;28mself\u001b[39m\u001b[38;5;241m.\u001b[39mcolumns\u001b[38;5;241m.\u001b[39mnlevels \u001b[38;5;241m>\u001b[39m \u001b[38;5;241m1\u001b[39m:\n\u001b[0;32m   3892\u001b[0m     \u001b[38;5;28;01mreturn\u001b[39;00m \u001b[38;5;28mself\u001b[39m\u001b[38;5;241m.\u001b[39m_getitem_multilevel(key)\n\u001b[1;32m-> 3893\u001b[0m indexer \u001b[38;5;241m=\u001b[39m \u001b[38;5;28;43mself\u001b[39;49m\u001b[38;5;241;43m.\u001b[39;49m\u001b[43mcolumns\u001b[49m\u001b[38;5;241;43m.\u001b[39;49m\u001b[43mget_loc\u001b[49m\u001b[43m(\u001b[49m\u001b[43mkey\u001b[49m\u001b[43m)\u001b[49m\n\u001b[0;32m   3894\u001b[0m \u001b[38;5;28;01mif\u001b[39;00m is_integer(indexer):\n\u001b[0;32m   3895\u001b[0m     indexer \u001b[38;5;241m=\u001b[39m [indexer]\n",
      "File \u001b[1;32mc:\\Users\\Dell\\AppData\\Local\\Programs\\Python\\Python312\\Lib\\site-packages\\pandas\\core\\indexes\\base.py:3798\u001b[0m, in \u001b[0;36mIndex.get_loc\u001b[1;34m(self, key)\u001b[0m\n\u001b[0;32m   3793\u001b[0m     \u001b[38;5;28;01mif\u001b[39;00m \u001b[38;5;28misinstance\u001b[39m(casted_key, \u001b[38;5;28mslice\u001b[39m) \u001b[38;5;129;01mor\u001b[39;00m (\n\u001b[0;32m   3794\u001b[0m         \u001b[38;5;28misinstance\u001b[39m(casted_key, abc\u001b[38;5;241m.\u001b[39mIterable)\n\u001b[0;32m   3795\u001b[0m         \u001b[38;5;129;01mand\u001b[39;00m \u001b[38;5;28many\u001b[39m(\u001b[38;5;28misinstance\u001b[39m(x, \u001b[38;5;28mslice\u001b[39m) \u001b[38;5;28;01mfor\u001b[39;00m x \u001b[38;5;129;01min\u001b[39;00m casted_key)\n\u001b[0;32m   3796\u001b[0m     ):\n\u001b[0;32m   3797\u001b[0m         \u001b[38;5;28;01mraise\u001b[39;00m InvalidIndexError(key)\n\u001b[1;32m-> 3798\u001b[0m     \u001b[38;5;28;01mraise\u001b[39;00m \u001b[38;5;167;01mKeyError\u001b[39;00m(key) \u001b[38;5;28;01mfrom\u001b[39;00m \u001b[38;5;21;01merr\u001b[39;00m\n\u001b[0;32m   3799\u001b[0m \u001b[38;5;28;01mexcept\u001b[39;00m \u001b[38;5;167;01mTypeError\u001b[39;00m:\n\u001b[0;32m   3800\u001b[0m     \u001b[38;5;66;03m# If we have a listlike key, _check_indexing_error will raise\u001b[39;00m\n\u001b[0;32m   3801\u001b[0m     \u001b[38;5;66;03m#  InvalidIndexError. Otherwise we fall through and re-raise\u001b[39;00m\n\u001b[0;32m   3802\u001b[0m     \u001b[38;5;66;03m#  the TypeError.\u001b[39;00m\n\u001b[0;32m   3803\u001b[0m     \u001b[38;5;28mself\u001b[39m\u001b[38;5;241m.\u001b[39m_check_indexing_error(key)\n",
      "\u001b[1;31mKeyError\u001b[0m: 'nama'"
     ]
    }
   ],
   "source": [
    "import pandas as pd\n",
    "\n",
    "# Reading an excel file then turn it into DataFrame\n",
    "dataframe = pd.read_excel('produksi_sampa_kabupaten.xlsx')\n",
    "\n",
    "# Menampilkan DataFrame\n",
    "print(dataframe)"
   ]
  },
  {
   "cell_type": "code",
   "execution_count": 12,
   "metadata": {},
   "outputs": [
    {
     "name": "stdout",
     "output_type": "stream",
     "text": [
      "DataFrame:\n",
      "      Name  Age         City\n",
      "0     John   28     New York\n",
      "1    Alice   30      Chicago\n",
      "2      Eva   25  Los Angeles\n",
      "3  Michael   32      Houston\n",
      "\n",
      "Dataframe, with loc() method:\n",
      "Name      Alice\n",
      "Age          30\n",
      "City    Chicago\n",
      "Name: 1, dtype: object\n",
      "\n",
      "Dataframe, with iloc() function\n",
      "Name            Eva\n",
      "Age              25\n",
      "City    Los Angeles\n",
      "Name: 2, dtype: object\n",
      "\n"
     ]
    }
   ],
   "source": [
    "data = [\n",
    "    ['John', 28, 'New York'],\n",
    "    ['Alice', 30, 'Chicago'],\n",
    "    ['Eva', 25, 'Los Angeles'],\n",
    "    ['Michael', 32, 'Houston']\n",
    "]\n",
    "\n",
    "# Converting the list into DataFrame\n",
    "df = pd.DataFrame(data, columns=['Name', 'Age', 'City'])\n",
    "\n",
    "# Printing DataFrame\n",
    "print(f\"DataFrame:\\n{ df }\\n\")\n",
    "\n",
    "# Accessing a row based on the label\n",
    "print(f\"Dataframe, with loc() method:\\n{ df.loc[1] }\\n\")\n",
    "\n",
    "# Accessing a row based on the posistion of an integer\n",
    "print(f\"Dataframe, with iloc() function\\n{ df.iloc[2] }\\n\")"
   ]
  },
  {
   "cell_type": "code",
   "execution_count": 14,
   "metadata": {},
   "outputs": [
    {
     "name": "stdout",
     "output_type": "stream",
     "text": [
      "Original DataFrame:\n",
      "    A   B  C\n",
      "0  10   5  2\n",
      "1  20  15  4\n",
      "2  30  25  6\n",
      "Using addition operation into DataFrame\n",
      "Manipulated DataFrame:\n",
      "    A   B  C\n",
      "0  12   7  4\n",
      "1  22  17  6\n",
      "2  32  27  8\n"
     ]
    }
   ],
   "source": [
    "data = {\n",
    "    'A': [10, 20, 30],\n",
    "    'B': [5, 15, 25],\n",
    "    'C': [2, 4, 6],\n",
    "}\n",
    "\n",
    "df = pd.DataFrame(data)\n",
    "\n",
    "print(\"Original DataFrame:\")\n",
    "print(df)\n",
    "\n",
    "print(\"Using addition operation into DataFrame\")\n",
    "df = df + 2\n",
    "\n",
    "print(\"Manipulated DataFrame:\")\n",
    "print(df)"
   ]
  },
  {
   "cell_type": "code",
   "execution_count": 17,
   "metadata": {},
   "outputs": [
    {
     "name": "stdout",
     "output_type": "stream",
     "text": [
      "Original DataFrame:\n",
      "    A   B  C\n",
      "0  10   5  2\n",
      "1  20  15  4\n",
      "2  30  25  6\n",
      "3  40  35  8\n",
      "\n",
      "Jumlah setiap kolom\n",
      "A    100\n",
      "B     80\n",
      "C     20\n",
      "dtype: int64\n",
      "\n",
      "Jumlah setiap kolom\n",
      "0    17\n",
      "1    39\n",
      "2    61\n",
      "3    83\n",
      "dtype: int64\n"
     ]
    }
   ],
   "source": [
    "data = {\n",
    "    'A': [10, 20, 30, 40],\n",
    "    'B': [5, 15, 25, 35],\n",
    "    'C': [2, 4, 6, 8],\n",
    "}\n",
    "\n",
    "df = pd.DataFrame(data)\n",
    "print(\"Original DataFrame:\")\n",
    "print(df)\n",
    "\n",
    "# Sum of each column\n",
    "sum_result = df.sum()\n",
    "print(\"\\nJumlah setiap kolom\")\n",
    "print(sum_result)\n",
    "\n",
    "# Sum of each column\n",
    "sum_result = df.sum(axis=1)\n",
    "print(\"\\nJumlah setiap kolom\")\n",
    "print(sum_result)"
   ]
  },
  {
   "cell_type": "code",
   "execution_count": 18,
   "metadata": {},
   "outputs": [],
   "source": [
    "df.to_excel('hasil_analisis.xlsx', index = False)"
   ]
  },
  {
   "cell_type": "code",
   "execution_count": 23,
   "metadata": {},
   "outputs": [
    {
     "name": "stdout",
     "output_type": "stream",
     "text": [
      "   Nama  Umur  Gaji Kategori_Umur\n",
      "0  Andi    25  5000        Dewasa\n",
      "1  Budi    30  6000        Dewasa\n",
      "2  Cici    22  4500          Muda\n",
      "       Nama  Umur   Gaji Kategori_Umur\n",
      "0  AndiAndi    50  10000  DewasaDewasa\n",
      "1  BudiBudi    60  12000  DewasaDewasa\n",
      "2  CiciCici    44   9000      MudaMuda\n",
      "0    5025\n",
      "1    6030\n",
      "2    4522\n",
      "dtype: int64\n"
     ]
    }
   ],
   "source": [
    "data = {\n",
    "    'Nama': ['Andi', 'Budi', 'Cici'],\n",
    "    'Umur': [25, 30, 22],\n",
    "    'Gaji': [5000, 6000, 4500],\n",
    "}\n",
    "\n",
    "df = pd.DataFrame(data)\n",
    "\n",
    "def kategori_umur(umur):\n",
    "    if umur < 25:\n",
    "        return 'Muda'\n",
    "    elif 25 <= umur < 35:\n",
    "        return 'Dewasa'\n",
    "    else:\n",
    "        return 'Lansia'\n",
    "    \n",
    "# Creating a new columns with a value from 'kategori_umur'\n",
    "df['Kategori_Umur'] = df['Umur'].apply(kategori_umur)\n",
    "\n",
    "# Using map to multiply each value in a DataFrame\n",
    "df_gandakan = df.map(lambda x: x * 2)\n",
    "\n",
    "# Using apply to each row to calculates sum\n",
    "total_per_baris = df.apply(lambda row: row['Umur'] + row['Gaji'], axis=1)\n",
    "\n",
    "print(df)\n",
    "print(df_gandakan)\n",
    "print(total_per_baris)"
   ]
  }
 ],
 "metadata": {
  "kernelspec": {
   "display_name": "Python 3",
   "language": "python",
   "name": "python3"
  },
  "language_info": {
   "codemirror_mode": {
    "name": "ipython",
    "version": 3
   },
   "file_extension": ".py",
   "mimetype": "text/x-python",
   "name": "python",
   "nbconvert_exporter": "python",
   "pygments_lexer": "ipython3",
   "version": "3.12.1"
  }
 },
 "nbformat": 4,
 "nbformat_minor": 2
}
